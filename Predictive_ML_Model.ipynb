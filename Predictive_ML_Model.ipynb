{
 "cells": [
  {
   "cell_type": "code",
   "execution_count": 1,
   "id": "b2bb6015",
   "metadata": {},
   "outputs": [],
   "source": [
    "import numpy as np\n",
    "import pandas as pd"
   ]
  },
  {
   "cell_type": "code",
   "execution_count": 2,
   "id": "73db4d1f",
   "metadata": {},
   "outputs": [],
   "source": [
    "from sklearn.model_selection import train_test_split\n",
    "from sklearn.preprocessing import OneHotEncoder, StandardScaler\n",
    "from tensorflow.keras.models import Model\n",
    "from tensorflow.keras.layers import Input, Embedding, Flatten, Dense, Concatenate\n",
    "from tensorflow.keras.utils import plot_model\n",
    "from sklearn.preprocessing import OneHotEncoder, StandardScaler\n",
    "from sklearn.compose import ColumnTransformer\n",
    "from sklearn.pipeline import Pipeline\n",
    "from tensorflow.keras.models import Model\n",
    "from tensorflow.keras.layers import Input, Dense, Embedding, Flatten, concatenate\n",
    "from tensorflow.keras.utils import plot_model\n",
    "\n",
    "from tensorflow.keras.callbacks import EarlyStopping\n",
    "\n",
    "from keras.models import Model\n",
    "from keras.layers import Input, Embedding, Flatten, Dense, concatenate\n",
    "from tensorflow.keras.optimizers import Adam\n",
    "\n",
    "from sklearn.metrics import r2_score, mean_absolute_percentage_error, mean_absolute_error, mean_squared_error\n",
    "\n",
    "import matplotlib.pyplot as plt"
   ]
  },
  {
   "cell_type": "code",
   "execution_count": 3,
   "id": "78a370b4",
   "metadata": {},
   "outputs": [],
   "source": [
    "df = pd.read_csv('SA_df_random.csv')"
   ]
  },
  {
   "cell_type": "code",
   "execution_count": 4,
   "id": "77718685",
   "metadata": {},
   "outputs": [],
   "source": [
    "one_hot_columns = [ 'month_of_year','day_of_week']#,'pickup_category_area','dropoff_category_area', 'is_weekend' ]\n",
    "\n",
    "embedding_columns = [ 'pickup_census_tract', 'dropoff_census_tract','hour_of_day']#, 'pickup_community_area','dropoff_community_area', 'taxi_id_int']\n",
    "\n",
    "numeric_columns = ['gc_distance', 'trip_miles', 'trip_seconds']"
   ]
  },
  {
   "cell_type": "code",
   "execution_count": 5,
   "id": "3d3dc7e3",
   "metadata": {},
   "outputs": [],
   "source": [
    "#for column in one_hot_columns\n",
    "df = pd.get_dummies(df, columns=[column for column in one_hot_columns])"
   ]
  },
  {
   "cell_type": "code",
   "execution_count": 6,
   "id": "cd035e85",
   "metadata": {},
   "outputs": [],
   "source": [
    "def extract_one_hot_encoded_columns(full_cols, one_hot_cols):\n",
    "    one_hot_encoded_columns = []\n",
    "    for col in one_hot_cols:\n",
    "        one_hot_encoded_columns.extend([full_col for full_col in full_cols if full_col.startswith(col+'_')])\n",
    "    return one_hot_encoded_columns"
   ]
  },
  {
   "cell_type": "code",
   "execution_count": 7,
   "id": "17644ef4",
   "metadata": {},
   "outputs": [],
   "source": [
    "one_hot_encoded_columns = extract_one_hot_encoded_columns(df.columns,one_hot_columns )"
   ]
  },
  {
   "cell_type": "code",
   "execution_count": 8,
   "id": "98afb697",
   "metadata": {},
   "outputs": [],
   "source": [
    "df_one_hot = df[one_hot_encoded_columns]"
   ]
  },
  {
   "cell_type": "code",
   "execution_count": 9,
   "id": "9f3a7b75",
   "metadata": {},
   "outputs": [],
   "source": [
    "for column in embedding_columns:\n",
    "    df[column] = df[column].astype('category').cat.codes"
   ]
  },
  {
   "cell_type": "code",
   "execution_count": 10,
   "id": "989c5acb",
   "metadata": {},
   "outputs": [],
   "source": [
    "df_embedding = df[embedding_columns]"
   ]
  },
  {
   "cell_type": "code",
   "execution_count": 11,
   "id": "ddbb1c8c",
   "metadata": {},
   "outputs": [],
   "source": [
    "df_numeric = df[numeric_columns]"
   ]
  },
  {
   "cell_type": "code",
   "execution_count": 12,
   "id": "92b0600b",
   "metadata": {},
   "outputs": [
    {
     "data": {
      "text/html": [
       "<div>\n",
       "<style scoped>\n",
       "    .dataframe tbody tr th:only-of-type {\n",
       "        vertical-align: middle;\n",
       "    }\n",
       "\n",
       "    .dataframe tbody tr th {\n",
       "        vertical-align: top;\n",
       "    }\n",
       "\n",
       "    .dataframe thead th {\n",
       "        text-align: right;\n",
       "    }\n",
       "</style>\n",
       "<table border=\"1\" class=\"dataframe\">\n",
       "  <thead>\n",
       "    <tr style=\"text-align: right;\">\n",
       "      <th></th>\n",
       "      <th>gc_distance</th>\n",
       "      <th>trip_miles</th>\n",
       "      <th>trip_seconds</th>\n",
       "    </tr>\n",
       "  </thead>\n",
       "  <tbody>\n",
       "    <tr>\n",
       "      <th>0</th>\n",
       "      <td>5.66</td>\n",
       "      <td>6.80</td>\n",
       "      <td>900</td>\n",
       "    </tr>\n",
       "    <tr>\n",
       "      <th>1</th>\n",
       "      <td>0.99</td>\n",
       "      <td>2.59</td>\n",
       "      <td>1230</td>\n",
       "    </tr>\n",
       "    <tr>\n",
       "      <th>2</th>\n",
       "      <td>0.99</td>\n",
       "      <td>1.20</td>\n",
       "      <td>420</td>\n",
       "    </tr>\n",
       "    <tr>\n",
       "      <th>3</th>\n",
       "      <td>3.40</td>\n",
       "      <td>3.80</td>\n",
       "      <td>976</td>\n",
       "    </tr>\n",
       "    <tr>\n",
       "      <th>4</th>\n",
       "      <td>0.51</td>\n",
       "      <td>0.93</td>\n",
       "      <td>514</td>\n",
       "    </tr>\n",
       "    <tr>\n",
       "      <th>...</th>\n",
       "      <td>...</td>\n",
       "      <td>...</td>\n",
       "      <td>...</td>\n",
       "    </tr>\n",
       "    <tr>\n",
       "      <th>99995</th>\n",
       "      <td>0.88</td>\n",
       "      <td>1.10</td>\n",
       "      <td>420</td>\n",
       "    </tr>\n",
       "    <tr>\n",
       "      <th>99996</th>\n",
       "      <td>0.82</td>\n",
       "      <td>1.79</td>\n",
       "      <td>432</td>\n",
       "    </tr>\n",
       "    <tr>\n",
       "      <th>99997</th>\n",
       "      <td>1.83</td>\n",
       "      <td>2.17</td>\n",
       "      <td>840</td>\n",
       "    </tr>\n",
       "    <tr>\n",
       "      <th>99998</th>\n",
       "      <td>0.74</td>\n",
       "      <td>1.25</td>\n",
       "      <td>655</td>\n",
       "    </tr>\n",
       "    <tr>\n",
       "      <th>99999</th>\n",
       "      <td>1.27</td>\n",
       "      <td>1.02</td>\n",
       "      <td>181</td>\n",
       "    </tr>\n",
       "  </tbody>\n",
       "</table>\n",
       "<p>100000 rows × 3 columns</p>\n",
       "</div>"
      ],
      "text/plain": [
       "       gc_distance  trip_miles  trip_seconds\n",
       "0             5.66        6.80           900\n",
       "1             0.99        2.59          1230\n",
       "2             0.99        1.20           420\n",
       "3             3.40        3.80           976\n",
       "4             0.51        0.93           514\n",
       "...            ...         ...           ...\n",
       "99995         0.88        1.10           420\n",
       "99996         0.82        1.79           432\n",
       "99997         1.83        2.17           840\n",
       "99998         0.74        1.25           655\n",
       "99999         1.27        1.02           181\n",
       "\n",
       "[100000 rows x 3 columns]"
      ]
     },
     "execution_count": 12,
     "metadata": {},
     "output_type": "execute_result"
    }
   ],
   "source": [
    "df_numeric"
   ]
  },
  {
   "cell_type": "code",
   "execution_count": 13,
   "id": "577dfdb9",
   "metadata": {},
   "outputs": [],
   "source": [
    "# Embedding sizes for the three categorical features\n",
    "embedding_sizes = [min(16, df[column].nunique() // 2) for column in embedding_columns]\n"
   ]
  },
  {
   "cell_type": "code",
   "execution_count": 14,
   "id": "de776c8f",
   "metadata": {},
   "outputs": [],
   "source": [
    "X = df[[*one_hot_encoded_columns, *embedding_columns, *numeric_columns]]\n",
    "y = df['fare']"
   ]
  },
  {
   "cell_type": "code",
   "execution_count": 15,
   "id": "cb941fb3",
   "metadata": {},
   "outputs": [],
   "source": [
    "X_train, X_test, y_train, y_test = train_test_split(X, y, test_size=0.3, random_state=42)"
   ]
  },
  {
   "cell_type": "code",
   "execution_count": 16,
   "id": "6a32fc99",
   "metadata": {},
   "outputs": [],
   "source": [
    "X_train_one_hot = X_train[one_hot_encoded_columns].values\n",
    "X_train_embedding = [X_train[embedding_column].values for embedding_column in embedding_columns]\n",
    "X_train_numeric = X_train[numeric_columns].values"
   ]
  },
  {
   "cell_type": "code",
   "execution_count": 17,
   "id": "ce46b19e",
   "metadata": {},
   "outputs": [],
   "source": [
    "X_test_one_hot = X_test[one_hot_encoded_columns].values\n",
    "X_test_embedding = [X_test[embedding_column].values for embedding_column in embedding_columns]\n",
    "X_test_numeric = X_test[numeric_columns].values"
   ]
  },
  {
   "cell_type": "code",
   "execution_count": 18,
   "id": "4856a5d1",
   "metadata": {},
   "outputs": [],
   "source": [
    "scaler = StandardScaler()\n",
    "X_train_numeric = scaler.fit_transform(X_train_numeric)\n",
    "X_test_numeric = scaler.transform(X_test_numeric)"
   ]
  },
  {
   "cell_type": "code",
   "execution_count": 19,
   "id": "f1a01342",
   "metadata": {},
   "outputs": [],
   "source": [
    "# Building the model input layers and embedding layers\n",
    "input_layers = []\n",
    "embedding_layers = []\n",
    "\n",
    "# Input and embedding for each categorical feature\n",
    "for i, (input_dim, output_dim) in enumerate(zip(df[embedding_columns].nunique(), embedding_sizes)):\n",
    "    input_layer = Input(shape=(1,))\n",
    "    embedding_layer = Embedding(input_dim+1, output_dim, input_length=1)(input_layer)\n",
    "    embedding_layer = Flatten()(embedding_layer)\n",
    "    \n",
    "    input_layers.append(input_layer)\n",
    "    embedding_layers.append(embedding_layer)\n",
    "\n",
    "# Input layer for one-hot encoded features\n",
    "one_hot_input_layer = Input(shape=(X_train_one_hot.shape[1],))\n",
    "input_layers.append(one_hot_input_layer)\n",
    "\n",
    "# Input layer for numeric features\n",
    "numeric_input_layer = Input(shape=(X_train_numeric.shape[1],))\n",
    "input_layers.append(numeric_input_layer)\n",
    "\n",
    "# Concatenate all layers\n",
    "concatenated_layers = concatenate(embedding_layers + [one_hot_input_layer, numeric_input_layer])\n"
   ]
  },
  {
   "cell_type": "code",
   "execution_count": 20,
   "id": "af396c3c",
   "metadata": {},
   "outputs": [],
   "source": [
    "# Dense layers\n",
    "dense1 = Dense(256, activation='relu')(concatenated_layers)\n",
    "dense2 = Dense(256, activation='relu')(dense1)\n",
    "dense3 = Dense(256, activation='relu')(dense2)\n",
    "dense4 = Dense(64, activation='relu')(dense3)\n",
    "output = Dense(1)(dense4)"
   ]
  },
  {
   "cell_type": "code",
   "execution_count": 21,
   "id": "7d8f8f0d",
   "metadata": {},
   "outputs": [],
   "source": [
    "model = Model(inputs=input_layers, outputs=output)"
   ]
  },
  {
   "cell_type": "code",
   "execution_count": 22,
   "id": "3a35e19c",
   "metadata": {},
   "outputs": [],
   "source": [
    "model.compile(optimizer=Adam(learning_rate=0.0003), loss='mae', metrics=['mae'])"
   ]
  },
  {
   "cell_type": "code",
   "execution_count": 23,
   "id": "15d096c9",
   "metadata": {},
   "outputs": [
    {
     "name": "stdout",
     "output_type": "stream",
     "text": [
      "Epoch 1/150\n",
      "192/192 [==============================] - 2s 7ms/step - loss: 3.1400 - mae: 3.1400 - val_loss: 0.6992 - val_mae: 0.6992\n",
      "Epoch 2/150\n",
      "192/192 [==============================] - 1s 6ms/step - loss: 0.7638 - mae: 0.7638 - val_loss: 0.5399 - val_mae: 0.5399\n",
      "Epoch 3/150\n",
      "192/192 [==============================] - 1s 6ms/step - loss: 0.6139 - mae: 0.6139 - val_loss: 0.4585 - val_mae: 0.4585\n",
      "Epoch 4/150\n",
      "192/192 [==============================] - 1s 7ms/step - loss: 0.5673 - mae: 0.5673 - val_loss: 0.4546 - val_mae: 0.4546\n",
      "Epoch 5/150\n",
      "192/192 [==============================] - 1s 7ms/step - loss: 0.5508 - mae: 0.5508 - val_loss: 0.4232 - val_mae: 0.4232\n",
      "Epoch 6/150\n",
      "192/192 [==============================] - 1s 7ms/step - loss: 0.5324 - mae: 0.5324 - val_loss: 0.4088 - val_mae: 0.4088\n",
      "Epoch 7/150\n",
      "192/192 [==============================] - 1s 7ms/step - loss: 0.5257 - mae: 0.5257 - val_loss: 0.4077 - val_mae: 0.4077\n",
      "Epoch 8/150\n",
      "192/192 [==============================] - 2s 8ms/step - loss: 0.5140 - mae: 0.5140 - val_loss: 0.4045 - val_mae: 0.4045\n",
      "Epoch 9/150\n",
      "192/192 [==============================] - 2s 8ms/step - loss: 0.5077 - mae: 0.5077 - val_loss: 0.4156 - val_mae: 0.4156\n",
      "Epoch 10/150\n",
      "192/192 [==============================] - 1s 7ms/step - loss: 0.5023 - mae: 0.5023 - val_loss: 0.4573 - val_mae: 0.4573\n",
      "Epoch 11/150\n",
      "192/192 [==============================] - 2s 8ms/step - loss: 0.4897 - mae: 0.4897 - val_loss: 0.4018 - val_mae: 0.4018\n",
      "Epoch 12/150\n",
      "192/192 [==============================] - 1s 8ms/step - loss: 0.4860 - mae: 0.4860 - val_loss: 0.4002 - val_mae: 0.4002\n",
      "Epoch 13/150\n",
      "192/192 [==============================] - 1s 7ms/step - loss: 0.4819 - mae: 0.4819 - val_loss: 0.4478 - val_mae: 0.4478\n",
      "Epoch 14/150\n",
      "192/192 [==============================] - 1s 7ms/step - loss: 0.4815 - mae: 0.4815 - val_loss: 0.3997 - val_mae: 0.3997\n",
      "Epoch 15/150\n",
      "192/192 [==============================] - 1s 7ms/step - loss: 0.4818 - mae: 0.4818 - val_loss: 0.4130 - val_mae: 0.4130\n",
      "Epoch 16/150\n",
      "192/192 [==============================] - 1s 8ms/step - loss: 0.4710 - mae: 0.4710 - val_loss: 0.4603 - val_mae: 0.4603\n",
      "Epoch 17/150\n",
      "192/192 [==============================] - 1s 7ms/step - loss: 0.4771 - mae: 0.4771 - val_loss: 0.4032 - val_mae: 0.4032\n",
      "Epoch 18/150\n",
      "192/192 [==============================] - 1s 8ms/step - loss: 0.4714 - mae: 0.4714 - val_loss: 0.3971 - val_mae: 0.3971\n",
      "Epoch 19/150\n",
      "192/192 [==============================] - 1s 8ms/step - loss: 0.4708 - mae: 0.4708 - val_loss: 0.4145 - val_mae: 0.4145\n",
      "Epoch 20/150\n",
      "192/192 [==============================] - 1s 7ms/step - loss: 0.4651 - mae: 0.4651 - val_loss: 0.3907 - val_mae: 0.3907\n",
      "Epoch 21/150\n",
      "192/192 [==============================] - 1s 8ms/step - loss: 0.4627 - mae: 0.4627 - val_loss: 0.4093 - val_mae: 0.4093\n",
      "Epoch 22/150\n",
      "192/192 [==============================] - 1s 8ms/step - loss: 0.4638 - mae: 0.4638 - val_loss: 0.3928 - val_mae: 0.3928\n",
      "Epoch 23/150\n",
      "192/192 [==============================] - 1s 8ms/step - loss: 0.4613 - mae: 0.4613 - val_loss: 0.3940 - val_mae: 0.3940\n",
      "Epoch 24/150\n",
      "192/192 [==============================] - 1s 8ms/step - loss: 0.4651 - mae: 0.4651 - val_loss: 0.4144 - val_mae: 0.4144\n",
      "Epoch 25/150\n",
      "192/192 [==============================] - 1s 8ms/step - loss: 0.4588 - mae: 0.4588 - val_loss: 0.3908 - val_mae: 0.3908\n",
      "Epoch 26/150\n",
      "192/192 [==============================] - 1s 8ms/step - loss: 0.4646 - mae: 0.4646 - val_loss: 0.4122 - val_mae: 0.4122\n",
      "Epoch 27/150\n",
      "192/192 [==============================] - 1s 8ms/step - loss: 0.4529 - mae: 0.4529 - val_loss: 0.3916 - val_mae: 0.3916\n",
      "Epoch 28/150\n",
      "192/192 [==============================] - 1s 8ms/step - loss: 0.4557 - mae: 0.4557 - val_loss: 0.4056 - val_mae: 0.4056\n",
      "Epoch 29/150\n",
      "192/192 [==============================] - 1s 8ms/step - loss: 0.4517 - mae: 0.4517 - val_loss: 0.4227 - val_mae: 0.4227\n",
      "Epoch 30/150\n",
      "192/192 [==============================] - 2s 8ms/step - loss: 0.4512 - mae: 0.4512 - val_loss: 0.3955 - val_mae: 0.3955\n",
      "Epoch 31/150\n",
      "192/192 [==============================] - 1s 8ms/step - loss: 0.4508 - mae: 0.4508 - val_loss: 0.3936 - val_mae: 0.3936\n",
      "Epoch 32/150\n",
      "192/192 [==============================] - 1s 8ms/step - loss: 0.4490 - mae: 0.4490 - val_loss: 0.3984 - val_mae: 0.3984\n",
      "Epoch 33/150\n",
      "192/192 [==============================] - 1s 8ms/step - loss: 0.4494 - mae: 0.4494 - val_loss: 0.3971 - val_mae: 0.3971\n",
      "Epoch 34/150\n",
      "192/192 [==============================] - 2s 8ms/step - loss: 0.4463 - mae: 0.4463 - val_loss: 0.3968 - val_mae: 0.3968\n",
      "Epoch 35/150\n",
      "192/192 [==============================] - 2s 8ms/step - loss: 0.4483 - mae: 0.4483 - val_loss: 0.4078 - val_mae: 0.4078\n",
      "Epoch 36/150\n",
      "192/192 [==============================] - 1s 7ms/step - loss: 0.4402 - mae: 0.4402 - val_loss: 0.3912 - val_mae: 0.3912\n",
      "Epoch 37/150\n",
      "192/192 [==============================] - 2s 8ms/step - loss: 0.4379 - mae: 0.4379 - val_loss: 0.3968 - val_mae: 0.3968\n",
      "Epoch 38/150\n",
      "192/192 [==============================] - 2s 8ms/step - loss: 0.4385 - mae: 0.4385 - val_loss: 0.4100 - val_mae: 0.4100\n",
      "Epoch 39/150\n",
      "192/192 [==============================] - 2s 8ms/step - loss: 0.4371 - mae: 0.4371 - val_loss: 0.3959 - val_mae: 0.3959\n",
      "Epoch 40/150\n",
      "192/192 [==============================] - 2s 8ms/step - loss: 0.4371 - mae: 0.4371 - val_loss: 0.3938 - val_mae: 0.3938\n",
      "Epoch 41/150\n",
      "192/192 [==============================] - 1s 8ms/step - loss: 0.4366 - mae: 0.4366 - val_loss: 0.4134 - val_mae: 0.4134\n",
      "Epoch 42/150\n",
      "192/192 [==============================] - 2s 8ms/step - loss: 0.4403 - mae: 0.4403 - val_loss: 0.4388 - val_mae: 0.4388\n",
      "Epoch 43/150\n",
      "192/192 [==============================] - 2s 8ms/step - loss: 0.4415 - mae: 0.4415 - val_loss: 0.3923 - val_mae: 0.3923\n",
      "Epoch 44/150\n",
      "192/192 [==============================] - 1s 7ms/step - loss: 0.4355 - mae: 0.4355 - val_loss: 0.3950 - val_mae: 0.3950\n",
      "Epoch 45/150\n",
      "192/192 [==============================] - 1s 7ms/step - loss: 0.4340 - mae: 0.4340 - val_loss: 0.3889 - val_mae: 0.3889\n",
      "Epoch 46/150\n",
      "192/192 [==============================] - 1s 8ms/step - loss: 0.4319 - mae: 0.4319 - val_loss: 0.4041 - val_mae: 0.4041\n",
      "Epoch 47/150\n",
      "192/192 [==============================] - 1s 8ms/step - loss: 0.4318 - mae: 0.4318 - val_loss: 0.3916 - val_mae: 0.3916\n",
      "Epoch 48/150\n",
      "192/192 [==============================] - 1s 8ms/step - loss: 0.4299 - mae: 0.4299 - val_loss: 0.3959 - val_mae: 0.3959\n",
      "Epoch 49/150\n",
      "192/192 [==============================] - 2s 9ms/step - loss: 0.4310 - mae: 0.4310 - val_loss: 0.3916 - val_mae: 0.3916\n",
      "Epoch 50/150\n",
      "192/192 [==============================] - 2s 8ms/step - loss: 0.4273 - mae: 0.4273 - val_loss: 0.3903 - val_mae: 0.3903\n",
      "Epoch 51/150\n",
      "192/192 [==============================] - 1s 7ms/step - loss: 0.4267 - mae: 0.4267 - val_loss: 0.3941 - val_mae: 0.3941\n",
      "Epoch 52/150\n",
      "192/192 [==============================] - 1s 7ms/step - loss: 0.4265 - mae: 0.4265 - val_loss: 0.3896 - val_mae: 0.3896\n",
      "Epoch 53/150\n",
      "192/192 [==============================] - 2s 8ms/step - loss: 0.4342 - mae: 0.4342 - val_loss: 0.3922 - val_mae: 0.3922\n",
      "Epoch 54/150\n",
      "192/192 [==============================] - 1s 7ms/step - loss: 0.4271 - mae: 0.4271 - val_loss: 0.3966 - val_mae: 0.3966\n",
      "Epoch 55/150\n",
      "192/192 [==============================] - 1s 7ms/step - loss: 0.4264 - mae: 0.4264 - val_loss: 0.3910 - val_mae: 0.3910\n",
      "Epoch 56/150\n",
      "192/192 [==============================] - 1s 7ms/step - loss: 0.4260 - mae: 0.4260 - val_loss: 0.4059 - val_mae: 0.4059\n",
      "Epoch 57/150\n",
      "192/192 [==============================] - 2s 9ms/step - loss: 0.4266 - mae: 0.4266 - val_loss: 0.3966 - val_mae: 0.3966\n",
      "Epoch 58/150\n",
      "192/192 [==============================] - 1s 8ms/step - loss: 0.4183 - mae: 0.4183 - val_loss: 0.4032 - val_mae: 0.4032\n",
      "Epoch 59/150\n",
      "192/192 [==============================] - 1s 7ms/step - loss: 0.4208 - mae: 0.4208 - val_loss: 0.4075 - val_mae: 0.4075\n",
      "Epoch 60/150\n",
      "192/192 [==============================] - 1s 7ms/step - loss: 0.4231 - mae: 0.4231 - val_loss: 0.4015 - val_mae: 0.4015\n",
      "Epoch 61/150\n",
      "192/192 [==============================] - 1s 7ms/step - loss: 0.4210 - mae: 0.4210 - val_loss: 0.3958 - val_mae: 0.3958\n",
      "Epoch 62/150\n"
     ]
    },
    {
     "name": "stdout",
     "output_type": "stream",
     "text": [
      "192/192 [==============================] - 1s 7ms/step - loss: 0.4219 - mae: 0.4219 - val_loss: 0.4003 - val_mae: 0.4003\n",
      "Epoch 63/150\n",
      "192/192 [==============================] - 1s 8ms/step - loss: 0.4207 - mae: 0.4207 - val_loss: 0.3909 - val_mae: 0.3909\n",
      "Epoch 64/150\n",
      "192/192 [==============================] - 2s 8ms/step - loss: 0.4185 - mae: 0.4185 - val_loss: 0.3989 - val_mae: 0.3989\n",
      "Epoch 65/150\n",
      "192/192 [==============================] - 1s 8ms/step - loss: 0.4214 - mae: 0.4214 - val_loss: 0.4161 - val_mae: 0.4161\n",
      "Epoch 66/150\n",
      "192/192 [==============================] - 1s 8ms/step - loss: 0.4174 - mae: 0.4174 - val_loss: 0.3977 - val_mae: 0.3977\n",
      "Epoch 67/150\n",
      "192/192 [==============================] - 1s 8ms/step - loss: 0.4239 - mae: 0.4239 - val_loss: 0.3916 - val_mae: 0.3916\n",
      "Epoch 68/150\n",
      "192/192 [==============================] - 1s 8ms/step - loss: 0.4129 - mae: 0.4129 - val_loss: 0.3959 - val_mae: 0.3959\n",
      "Epoch 69/150\n",
      "192/192 [==============================] - 1s 8ms/step - loss: 0.4247 - mae: 0.4247 - val_loss: 0.3992 - val_mae: 0.3992\n",
      "Epoch 70/150\n",
      "192/192 [==============================] - 1s 8ms/step - loss: 0.4119 - mae: 0.4119 - val_loss: 0.3951 - val_mae: 0.3951\n",
      "Epoch 71/150\n",
      "192/192 [==============================] - 1s 8ms/step - loss: 0.4088 - mae: 0.4088 - val_loss: 0.4046 - val_mae: 0.4046\n",
      "Epoch 72/150\n",
      "192/192 [==============================] - 1s 8ms/step - loss: 0.4134 - mae: 0.4134 - val_loss: 0.4164 - val_mae: 0.4164\n",
      "Epoch 73/150\n",
      "192/192 [==============================] - 2s 8ms/step - loss: 0.4127 - mae: 0.4127 - val_loss: 0.4003 - val_mae: 0.4003\n",
      "Epoch 74/150\n",
      "192/192 [==============================] - 1s 7ms/step - loss: 0.4092 - mae: 0.4092 - val_loss: 0.3988 - val_mae: 0.3988\n",
      "Epoch 75/150\n",
      "192/192 [==============================] - 2s 8ms/step - loss: 0.4113 - mae: 0.4113 - val_loss: 0.4086 - val_mae: 0.4086\n"
     ]
    }
   ],
   "source": [
    "calbacks = [EarlyStopping(monitor=\"val_loss\", patience=30, restore_best_weights=True)]\n",
    "\n",
    "# Train the model\n",
    "history = model.fit(\n",
    "    X_train_embedding + [X_train_one_hot, X_train_numeric],\n",
    "    y_train,\n",
    "    validation_split=0.3,\n",
    "    batch_size=256,\n",
    "    callbacks=calbacks,\n",
    "    epochs=150)\n"
   ]
  },
  {
   "cell_type": "code",
   "execution_count": 24,
   "id": "9c1c93c0",
   "metadata": {},
   "outputs": [
    {
     "data": {
      "image/png": "[encoded data removed]",
      "text/plain": [
       "<Figure size 720x360 with 1 Axes>"
      ]
     },
     "metadata": {
      "needs_background": "light"
     },
     "output_type": "display_data"
    }
   ],
   "source": [
    "# Plot training & validation loss values\n",
    "plt.figure(figsize=(10, 5))\n",
    "plt.plot(history.history['loss'], label='Train Loss')\n",
    "plt.plot(history.history['val_loss'], label='Validation Loss')\n",
    "plt.title('Model Loss Progression During Training/Validation')\n",
    "plt.ylabel('Loss')\n",
    "plt.xlabel('Epoch')\n",
    "plt.legend(['Train Loss', 'Validation Loss'], loc='upper right')\n",
    "plt.show()"
   ]
  },
  {
   "cell_type": "code",
   "execution_count": 25,
   "id": "660c964b",
   "metadata": {},
   "outputs": [],
   "source": [
    "preds = model.predict(X_test_embedding + [X_test_one_hot, X_test_numeric])"
   ]
  },
  {
   "cell_type": "code",
   "execution_count": 26,
   "id": "89edcf99",
   "metadata": {},
   "outputs": [
    {
     "data": {
      "text/plain": [
       "0.3674102899051135"
      ]
     },
     "execution_count": 26,
     "metadata": {},
     "output_type": "execute_result"
    }
   ],
   "source": [
    "r2_score(y_test, preds)"
   ]
  },
  {
   "cell_type": "code",
   "execution_count": 27,
   "id": "e9843abf",
   "metadata": {},
   "outputs": [
    {
     "data": {
      "text/plain": [
       "0.14805161410282536"
      ]
     },
     "execution_count": 27,
     "metadata": {},
     "output_type": "execute_result"
    }
   ],
   "source": [
    "mean_absolute_percentage_error(y_test, preds)"
   ]
  },
  {
   "cell_type": "code",
   "execution_count": 28,
   "id": "3231aaff",
   "metadata": {},
   "outputs": [
    {
     "data": {
      "text/plain": [
       "0.5009274647518793"
      ]
     },
     "execution_count": 28,
     "metadata": {},
     "output_type": "execute_result"
    }
   ],
   "source": [
    "mean_absolute_error(y_test, preds)"
   ]
  },
  {
   "cell_type": "code",
   "execution_count": 29,
   "id": "4c99c5b8",
   "metadata": {},
   "outputs": [
    {
     "data": {
      "text/plain": [
       "303.90076344294"
      ]
     },
     "execution_count": 29,
     "metadata": {},
     "output_type": "execute_result"
    }
   ],
   "source": [
    "mean_squared_error(y_test, preds)"
   ]
  },
  {
   "cell_type": "code",
   "execution_count": 30,
   "id": "981877a2",
   "metadata": {},
   "outputs": [
    {
     "data": {
      "text/plain": [
       "Text(0, 0.5, 'Predicted Values')"
      ]
     },
     "execution_count": 30,
     "metadata": {},
     "output_type": "execute_result"
    },
    {
     "data": {
      "image/png": "[encoded data removed]",
      "text/plain": [
       "<Figure size 576x576 with 1 Axes>"
      ]
     },
     "metadata": {
      "needs_background": "light"
     },
     "output_type": "display_data"
    }
   ],
   "source": [
    "plt.figure(figsize=(8,8))\n",
    "plt.scatter(y_test.values.reshape(30000, 1), preds.reshape(30000, 1), alpha=0.1)\n",
    "plt.plot(np.arange(len(y_test)), np.arange(len(y_test)), 'r')\n",
    "plt.xlim([0, 100])\n",
    "plt.ylim([0, 100])\n",
    "plt.title('Fare prices of Taxi Trips ($)')\n",
    "plt.xlabel('Actual Values')\n",
    "plt.ylabel('Predicted Values')"
   ]
  },
  {
   "cell_type": "code",
   "execution_count": 34,
   "id": "c724d3ac",
   "metadata": {},
   "outputs": [],
   "source": [
    "import pandas as pd\n",
    "import matplotlib.pyplot as plt\n",
    "\n",
    "def plot_series_without_outliers(series, whisker_width=1.5):\n",
    "    \"\"\"\n",
    "    Plot the distribution of a pandas Series excluding outliers.\n",
    "    \n",
    "    :param series: pandas Series containing the data to plot\n",
    "    :param whisker_width: the multiplier for IQR to determine outliers (default is 1.5)\n",
    "    \"\"\"\n",
    "    # Calculate Q1, Q3 and IQR\n",
    "    Q1 = series.quantile(0.25)\n",
    "    Q3 = series.quantile(0.75)\n",
    "    IQR = Q3 - Q1\n",
    "    \n",
    "    # Define bounds for outliers\n",
    "    lower_bound = Q1 - whisker_width * IQR\n",
    "    upper_bound = Q3 + whisker_width * IQR\n",
    "    \n",
    "    # Remove outliers\n",
    "    filtered_series = series[(series >= lower_bound) & (series <= upper_bound)]\n",
    "    \n",
    "    # Plot the distribution of the non-outlier values\n",
    "    plt.figure(figsize=(10, 6))\n",
    "    filtered_series.hist(bins=50, edgecolor='k')\n",
    "    plt.title('Distribution without Outliers')\n",
    "    plt.xlabel('Value')\n",
    "    plt.ylabel('Count')\n",
    "    plt.grid(False)\n",
    "    plt.show()\n"
   ]
  },
  {
   "cell_type": "code",
   "execution_count": 35,
   "id": "ebb42bc7",
   "metadata": {},
   "outputs": [
    {
     "data": {
      "image/png": "[encoded data removed]",
      "text/plain": [
       "<Figure size 720x432 with 1 Axes>"
      ]
     },
     "metadata": {
      "needs_background": "light"
     },
     "output_type": "display_data"
    }
   ],
   "source": [
    "plot_series_without_outliers(pd.Series(y_test))"
   ]
  },
  {
   "cell_type": "code",
   "execution_count": null,
   "id": "41f4a012",
   "metadata": {},
   "outputs": [],
   "source": []
  }
 ],
 "metadata": {
  "kernelspec": {
   "display_name": "Python 3 (ipykernel)",
   "language": "python",
   "name": "python3"
  },
  "language_info": {
   "codemirror_mode": {
    "name": "ipython",
    "version": 3
   },
   "file_extension": ".py",
   "mimetype": "text/x-python",
   "name": "python",
   "nbconvert_exporter": "python",
   "pygments_lexer": "ipython3",
   "version": "3.9.7"
  }
 },
 "nbformat": 4,
 "nbformat_minor": 5
}
